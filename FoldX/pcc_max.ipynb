{
 "cells": [
  {
   "cell_type": "code",
   "execution_count": 1,
   "id": "ad515a6f-7e8b-4cf8-8aed-7220177b9006",
   "metadata": {},
   "outputs": [],
   "source": [
    "import pandas\n",
    "import numpy as np"
   ]
  },
  {
   "cell_type": "code",
   "execution_count": 2,
   "id": "d2b78a4d-3a8f-403e-bca6-c83ac9b2f865",
   "metadata": {},
   "outputs": [],
   "source": [
    "sigma=0.5"
   ]
  },
  {
   "cell_type": "markdown",
   "id": "79379516-1e52-40ac-ad72-f57276c42ed4",
   "metadata": {},
   "source": [
    "# Estimate PCC max\n",
    "## S669\n",
    "### direct"
   ]
  },
  {
   "cell_type": "code",
   "execution_count": 3,
   "id": "96ea8065-e0d1-46d1-a077-a719d21ec14c",
   "metadata": {},
   "outputs": [
    {
     "data": {
      "text/plain": [
       "((669,),\n",
       " 0   -1.80\n",
       " 1   -2.69\n",
       " 2   -1.98\n",
       " 3   -1.70\n",
       " 4   -1.36\n",
       " Name: ddg, dtype: float64)"
      ]
     },
     "execution_count": 3,
     "metadata": {},
     "output_type": "execute_result"
    }
   ],
   "source": [
    "s669_ddg = pandas.read_csv('s669_muts.csv')['ddg']\n",
    "s669_ddg.shape, s669_ddg.head()"
   ]
  },
  {
   "cell_type": "code",
   "execution_count": 4,
   "id": "92fd628c-1253-46f2-a373-b3d7f9fa057a",
   "metadata": {},
   "outputs": [
    {
     "data": {
      "text/plain": [
       "(669, 10)"
      ]
     },
     "execution_count": 4,
     "metadata": {},
     "output_type": "execute_result"
    }
   ],
   "source": [
    "ten_random = np.random.normal( scale=sigma, size=(len(s669_ddg), 10))\n",
    "ten_random.shape"
   ]
  },
  {
   "cell_type": "code",
   "execution_count": 5,
   "id": "8afc847d-ff0e-4b3e-9d20-784dd51a525d",
   "metadata": {},
   "outputs": [],
   "source": [
    "ddg10=np.repeat(np.array(s669_ddg),10).reshape(ten_random.shape)"
   ]
  },
  {
   "cell_type": "code",
   "execution_count": 6,
   "id": "89e296f8-7573-4a0b-806e-5714a3db725b",
   "metadata": {},
   "outputs": [
    {
     "data": {
      "text/html": [
       "<div>\n",
       "<style scoped>\n",
       "    .dataframe tbody tr th:only-of-type {\n",
       "        vertical-align: middle;\n",
       "    }\n",
       "\n",
       "    .dataframe tbody tr th {\n",
       "        vertical-align: top;\n",
       "    }\n",
       "\n",
       "    .dataframe thead th {\n",
       "        text-align: right;\n",
       "    }\n",
       "</style>\n",
       "<table border=\"1\" class=\"dataframe\">\n",
       "  <thead>\n",
       "    <tr style=\"text-align: right;\">\n",
       "      <th></th>\n",
       "      <th>0</th>\n",
       "      <th>1</th>\n",
       "      <th>2</th>\n",
       "      <th>3</th>\n",
       "      <th>4</th>\n",
       "      <th>5</th>\n",
       "      <th>6</th>\n",
       "      <th>7</th>\n",
       "      <th>8</th>\n",
       "      <th>9</th>\n",
       "    </tr>\n",
       "  </thead>\n",
       "  <tbody>\n",
       "    <tr>\n",
       "      <th>0</th>\n",
       "      <td>-2.594237</td>\n",
       "      <td>-2.148752</td>\n",
       "      <td>-1.218358</td>\n",
       "      <td>-2.075413</td>\n",
       "      <td>-1.936850</td>\n",
       "      <td>-0.905994</td>\n",
       "      <td>-1.544817</td>\n",
       "      <td>-1.347958</td>\n",
       "      <td>-1.650255</td>\n",
       "      <td>-2.114393</td>\n",
       "    </tr>\n",
       "    <tr>\n",
       "      <th>1</th>\n",
       "      <td>-2.881013</td>\n",
       "      <td>-2.766256</td>\n",
       "      <td>-3.269687</td>\n",
       "      <td>-3.012130</td>\n",
       "      <td>-2.996301</td>\n",
       "      <td>-3.215874</td>\n",
       "      <td>-2.866357</td>\n",
       "      <td>-2.691186</td>\n",
       "      <td>-3.675739</td>\n",
       "      <td>-2.497780</td>\n",
       "    </tr>\n",
       "    <tr>\n",
       "      <th>2</th>\n",
       "      <td>-0.905326</td>\n",
       "      <td>-1.713733</td>\n",
       "      <td>-2.085473</td>\n",
       "      <td>-1.608059</td>\n",
       "      <td>-1.782635</td>\n",
       "      <td>-2.111960</td>\n",
       "      <td>-2.536569</td>\n",
       "      <td>-2.127340</td>\n",
       "      <td>-2.054265</td>\n",
       "      <td>-2.020968</td>\n",
       "    </tr>\n",
       "    <tr>\n",
       "      <th>3</th>\n",
       "      <td>-1.919019</td>\n",
       "      <td>-1.268419</td>\n",
       "      <td>-1.563000</td>\n",
       "      <td>-0.954975</td>\n",
       "      <td>-1.532866</td>\n",
       "      <td>-2.812300</td>\n",
       "      <td>-1.639280</td>\n",
       "      <td>-1.734629</td>\n",
       "      <td>-1.236278</td>\n",
       "      <td>-0.886532</td>\n",
       "    </tr>\n",
       "    <tr>\n",
       "      <th>4</th>\n",
       "      <td>-1.743646</td>\n",
       "      <td>-0.894350</td>\n",
       "      <td>-1.222891</td>\n",
       "      <td>-1.728461</td>\n",
       "      <td>-1.262284</td>\n",
       "      <td>-1.489188</td>\n",
       "      <td>-2.145334</td>\n",
       "      <td>-1.980894</td>\n",
       "      <td>-0.255324</td>\n",
       "      <td>-1.716250</td>\n",
       "    </tr>\n",
       "  </tbody>\n",
       "</table>\n",
       "</div>"
      ],
      "text/plain": [
       "          0         1         2         3         4         5         6  \\\n",
       "0 -2.594237 -2.148752 -1.218358 -2.075413 -1.936850 -0.905994 -1.544817   \n",
       "1 -2.881013 -2.766256 -3.269687 -3.012130 -2.996301 -3.215874 -2.866357   \n",
       "2 -0.905326 -1.713733 -2.085473 -1.608059 -1.782635 -2.111960 -2.536569   \n",
       "3 -1.919019 -1.268419 -1.563000 -0.954975 -1.532866 -2.812300 -1.639280   \n",
       "4 -1.743646 -0.894350 -1.222891 -1.728461 -1.262284 -1.489188 -2.145334   \n",
       "\n",
       "          7         8         9  \n",
       "0 -1.347958 -1.650255 -2.114393  \n",
       "1 -2.691186 -3.675739 -2.497780  \n",
       "2 -2.127340 -2.054265 -2.020968  \n",
       "3 -1.734629 -1.236278 -0.886532  \n",
       "4 -1.980894 -0.255324 -1.716250  "
      ]
     },
     "execution_count": 6,
     "metadata": {},
     "output_type": "execute_result"
    }
   ],
   "source": [
    "fake_ddg= pandas.DataFrame(ddg10+ten_random)\n",
    "fake_ddg.head()"
   ]
  },
  {
   "cell_type": "code",
   "execution_count": 7,
   "id": "3918f1ed-6e79-48f0-8935-80024459621e",
   "metadata": {},
   "outputs": [],
   "source": [
    "ten_corrs=fake_ddg.corrwith(s669_ddg)"
   ]
  },
  {
   "cell_type": "code",
   "execution_count": 8,
   "id": "f8ca0f46-1b53-4191-aab2-481903a32302",
   "metadata": {},
   "outputs": [
    {
     "data": {
      "text/plain": [
       "(0.9546248786803397, 0.0012690123521169614)"
      ]
     },
     "execution_count": 8,
     "metadata": {},
     "output_type": "execute_result"
    }
   ],
   "source": [
    "ten_corrs.mean(),ten_corrs.std()"
   ]
  },
  {
   "cell_type": "markdown",
   "id": "bd827df6-5333-4673-a3c9-d877eee8948e",
   "metadata": {},
   "source": [
    "### combined"
   ]
  },
  {
   "cell_type": "code",
   "execution_count": 9,
   "id": "9f457387-175d-48c2-a461-302de72e8d4f",
   "metadata": {},
   "outputs": [
    {
     "data": {
      "text/plain": [
       "((1338,), (1338, 10))"
      ]
     },
     "execution_count": 9,
     "metadata": {},
     "output_type": "execute_result"
    }
   ],
   "source": [
    "double_s669_ddg = pandas.concat([s669_ddg, -s669_ddg])\n",
    "double_fake = pandas.concat([fake_ddg, -fake_ddg])\n",
    "double_s669_ddg.shape, double_fake.shape"
   ]
  },
  {
   "cell_type": "code",
   "execution_count": 10,
   "id": "2dab60e5-18d6-4fef-81d7-8c0d59b47d3a",
   "metadata": {},
   "outputs": [
    {
     "data": {
      "text/plain": [
       "(0.9663366998546067, 0.0010112106939212644)"
      ]
     },
     "execution_count": 10,
     "metadata": {},
     "output_type": "execute_result"
    }
   ],
   "source": [
    "double_corrs = double_fake.corrwith(double_s669_ddg)\n",
    "double_corrs.mean(), double_corrs.std()"
   ]
  },
  {
   "cell_type": "markdown",
   "id": "b8cee47f-043c-4265-90bd-b6c2c81b77ef",
   "metadata": {},
   "source": [
    "## S461\n",
    "### direct"
   ]
  },
  {
   "cell_type": "code",
   "execution_count": 11,
   "id": "1a08172b-c769-41b2-ac27-81e3ede49e69",
   "metadata": {},
   "outputs": [
    {
     "data": {
      "text/plain": [
       "((461,),\n",
       " 0   -1.800\n",
       " 1   -1.745\n",
       " 2    0.287\n",
       " 3   -0.287\n",
       " 4   -0.263\n",
       " Name: ddg, dtype: float64)"
      ]
     },
     "execution_count": 11,
     "metadata": {},
     "output_type": "execute_result"
    }
   ],
   "source": [
    "s461_ddg = pandas.read_csv('s461_muts.csv', sep=' ')['ddg']\n",
    "s461_ddg.shape, s461_ddg.head()"
   ]
  },
  {
   "cell_type": "code",
   "execution_count": 12,
   "id": "ef6ed9a0-8e85-41d3-bf50-99a5c6aa86d0",
   "metadata": {},
   "outputs": [
    {
     "data": {
      "text/plain": [
       "(461, 10)"
      ]
     },
     "execution_count": 12,
     "metadata": {},
     "output_type": "execute_result"
    }
   ],
   "source": [
    "ten_random_s = np.random.normal( scale=sigma, size=(len(s461_ddg), 10))\n",
    "ten_random_s.shape"
   ]
  },
  {
   "cell_type": "code",
   "execution_count": 13,
   "id": "2582114c-e251-46a5-b423-38d31d5c43d4",
   "metadata": {},
   "outputs": [],
   "source": [
    "ddg10_s=np.repeat(np.array(s461_ddg),10).reshape(ten_random_s.shape)"
   ]
  },
  {
   "cell_type": "code",
   "execution_count": 14,
   "id": "7be34760-1f0a-4785-8c78-e2658c72b1c7",
   "metadata": {},
   "outputs": [
    {
     "data": {
      "text/html": [
       "<div>\n",
       "<style scoped>\n",
       "    .dataframe tbody tr th:only-of-type {\n",
       "        vertical-align: middle;\n",
       "    }\n",
       "\n",
       "    .dataframe tbody tr th {\n",
       "        vertical-align: top;\n",
       "    }\n",
       "\n",
       "    .dataframe thead th {\n",
       "        text-align: right;\n",
       "    }\n",
       "</style>\n",
       "<table border=\"1\" class=\"dataframe\">\n",
       "  <thead>\n",
       "    <tr style=\"text-align: right;\">\n",
       "      <th></th>\n",
       "      <th>0</th>\n",
       "      <th>1</th>\n",
       "      <th>2</th>\n",
       "      <th>3</th>\n",
       "      <th>4</th>\n",
       "      <th>5</th>\n",
       "      <th>6</th>\n",
       "      <th>7</th>\n",
       "      <th>8</th>\n",
       "      <th>9</th>\n",
       "    </tr>\n",
       "  </thead>\n",
       "  <tbody>\n",
       "    <tr>\n",
       "      <th>0</th>\n",
       "      <td>-1.877454</td>\n",
       "      <td>-2.050725</td>\n",
       "      <td>-2.473752</td>\n",
       "      <td>-1.273176</td>\n",
       "      <td>-2.377162</td>\n",
       "      <td>-1.975860</td>\n",
       "      <td>-1.147984</td>\n",
       "      <td>-1.194304</td>\n",
       "      <td>-1.449961</td>\n",
       "      <td>-1.514700</td>\n",
       "    </tr>\n",
       "    <tr>\n",
       "      <th>1</th>\n",
       "      <td>-1.460789</td>\n",
       "      <td>-2.282656</td>\n",
       "      <td>-1.437137</td>\n",
       "      <td>-2.022299</td>\n",
       "      <td>-1.157055</td>\n",
       "      <td>-1.923695</td>\n",
       "      <td>-1.184220</td>\n",
       "      <td>-1.764000</td>\n",
       "      <td>-2.406761</td>\n",
       "      <td>-1.921316</td>\n",
       "    </tr>\n",
       "    <tr>\n",
       "      <th>2</th>\n",
       "      <td>-0.071078</td>\n",
       "      <td>0.592883</td>\n",
       "      <td>-0.479540</td>\n",
       "      <td>0.433491</td>\n",
       "      <td>-0.488861</td>\n",
       "      <td>0.485562</td>\n",
       "      <td>0.269007</td>\n",
       "      <td>-0.277321</td>\n",
       "      <td>0.552123</td>\n",
       "      <td>1.088062</td>\n",
       "    </tr>\n",
       "    <tr>\n",
       "      <th>3</th>\n",
       "      <td>-0.016571</td>\n",
       "      <td>-0.968521</td>\n",
       "      <td>-0.160919</td>\n",
       "      <td>-0.624326</td>\n",
       "      <td>-0.770103</td>\n",
       "      <td>-0.703582</td>\n",
       "      <td>-0.989078</td>\n",
       "      <td>-0.535583</td>\n",
       "      <td>-1.402978</td>\n",
       "      <td>-1.027718</td>\n",
       "    </tr>\n",
       "    <tr>\n",
       "      <th>4</th>\n",
       "      <td>-0.413546</td>\n",
       "      <td>0.178486</td>\n",
       "      <td>1.012506</td>\n",
       "      <td>-0.407834</td>\n",
       "      <td>0.492835</td>\n",
       "      <td>-0.782870</td>\n",
       "      <td>0.166234</td>\n",
       "      <td>0.125411</td>\n",
       "      <td>-0.201423</td>\n",
       "      <td>-0.652894</td>\n",
       "    </tr>\n",
       "  </tbody>\n",
       "</table>\n",
       "</div>"
      ],
      "text/plain": [
       "          0         1         2         3         4         5         6  \\\n",
       "0 -1.877454 -2.050725 -2.473752 -1.273176 -2.377162 -1.975860 -1.147984   \n",
       "1 -1.460789 -2.282656 -1.437137 -2.022299 -1.157055 -1.923695 -1.184220   \n",
       "2 -0.071078  0.592883 -0.479540  0.433491 -0.488861  0.485562  0.269007   \n",
       "3 -0.016571 -0.968521 -0.160919 -0.624326 -0.770103 -0.703582 -0.989078   \n",
       "4 -0.413546  0.178486  1.012506 -0.407834  0.492835 -0.782870  0.166234   \n",
       "\n",
       "          7         8         9  \n",
       "0 -1.194304 -1.449961 -1.514700  \n",
       "1 -1.764000 -2.406761 -1.921316  \n",
       "2 -0.277321  0.552123  1.088062  \n",
       "3 -0.535583 -1.402978 -1.027718  \n",
       "4  0.125411 -0.201423 -0.652894  "
      ]
     },
     "execution_count": 14,
     "metadata": {},
     "output_type": "execute_result"
    }
   ],
   "source": [
    "fake_ddg_461= pandas.DataFrame(ddg10_s+ten_random_s)\n",
    "fake_ddg_461.head()"
   ]
  },
  {
   "cell_type": "code",
   "execution_count": 15,
   "id": "012bd28e-ade7-4c49-a66d-08786418de21",
   "metadata": {},
   "outputs": [],
   "source": [
    "ten_corrs_461=fake_ddg_461.corrwith(s461_ddg)"
   ]
  },
  {
   "cell_type": "code",
   "execution_count": 16,
   "id": "a7c51d6f-507e-427b-9edc-0a548b18f8ab",
   "metadata": {},
   "outputs": [
    {
     "data": {
      "text/plain": [
       "(0.9298903458307439, 0.00351231395274046)"
      ]
     },
     "execution_count": 16,
     "metadata": {},
     "output_type": "execute_result"
    }
   ],
   "source": [
    "ten_corrs_461.mean(),ten_corrs_461.std()"
   ]
  },
  {
   "cell_type": "markdown",
   "id": "b9dd47cb-1580-41be-b9c4-48082983698c",
   "metadata": {},
   "source": [
    "### combined"
   ]
  },
  {
   "cell_type": "code",
   "execution_count": 17,
   "id": "a65320b6-c306-4d8e-8336-4b069d34a9b1",
   "metadata": {},
   "outputs": [
    {
     "data": {
      "text/plain": [
       "((922,), (922, 10))"
      ]
     },
     "execution_count": 17,
     "metadata": {},
     "output_type": "execute_result"
    }
   ],
   "source": [
    "double_s461_ddg = pandas.concat([s461_ddg, -s461_ddg])\n",
    "double_fake_461 = pandas.concat([fake_ddg_461, -fake_ddg_461])\n",
    "double_s461_ddg.shape, double_fake_461.shape"
   ]
  },
  {
   "cell_type": "code",
   "execution_count": 18,
   "id": "c5dcce14-2c79-48ab-925d-6c46aa837ed7",
   "metadata": {},
   "outputs": [
    {
     "data": {
      "text/plain": [
       "(0.959228480199072, 0.0017661498512560618)"
      ]
     },
     "execution_count": 18,
     "metadata": {},
     "output_type": "execute_result"
    }
   ],
   "source": [
    "double_corrs_461 = double_fake_461.corrwith(double_s461_ddg)\n",
    "double_corrs_461.mean(), double_corrs_461.std()"
   ]
  }
 ],
 "metadata": {
  "kernelspec": {
   "display_name": "Python 3 (ipykernel)",
   "language": "python",
   "name": "python3"
  },
  "language_info": {
   "codemirror_mode": {
    "name": "ipython",
    "version": 3
   },
   "file_extension": ".py",
   "mimetype": "text/x-python",
   "name": "python",
   "nbconvert_exporter": "python",
   "pygments_lexer": "ipython3",
   "version": "3.12.4"
  }
 },
 "nbformat": 4,
 "nbformat_minor": 5
}
